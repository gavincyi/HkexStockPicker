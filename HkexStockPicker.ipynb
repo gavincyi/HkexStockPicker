{
 "cells": [
  {
   "cell_type": "markdown",
   "metadata": {},
   "source": [
    "# Initialization"
   ]
  },
  {
   "cell_type": "markdown",
   "metadata": {},
   "source": [
    "### 1. Import libraries"
   ]
  },
  {
   "cell_type": "code",
   "execution_count": 109,
   "metadata": {
    "collapsed": true
   },
   "outputs": [],
   "source": [
    "%matplotlib inline\n",
    "import Quandl\n",
    "import pandas as pd\n",
    "from backports import configparser"
   ]
  },
  {
   "cell_type": "markdown",
   "metadata": {},
   "source": [
    "### 2. Initialize the benchmark and stock list"
   ]
  },
  {
   "cell_type": "code",
   "execution_count": 134,
   "metadata": {
    "collapsed": false,
    "scrolled": true
   },
   "outputs": [],
   "source": [
    "config = configparser.ConfigParser()\n",
    "config.read(\"HkexStockPicker.ini\")\n",
    "\n",
    "bm_file_path = config['DEFAULT']['BenchmarkFilePath']\n",
    "stocks_file_path = config['DEFAULT']['StocksFilePath']\n",
    "\n",
    "bm_list = [x.strip() for x in open(bm_file_path).readlines()]\n",
    "stocks_list =  [x.strip() for x in open(stocks_file_path).readlines()]\n",
    "\n",
    "token = config['DEFAULT']['QuandlToken']\n",
    "num_of_days = int(config['DEFAULT']['NumOfDays'])"
   ]
  },
  {
   "cell_type": "markdown",
   "metadata": {},
   "source": [
    "# Retrieve data"
   ]
  },
  {
   "cell_type": "code",
   "execution_count": 132,
   "metadata": {
    "collapsed": false
   },
   "outputs": [],
   "source": [
    "benchmark = pd.DataFrame()\n",
    "for b in bm_list:\n",
    "    benchmark[b] = Quandl.get(b, rows=num_of_days, authtoken=token)[\"Close\"].pct_change().tail(-1).cumsum()"
   ]
  },
  {
   "cell_type": "code",
   "execution_count": 143,
   "metadata": {
    "collapsed": false
   },
   "outputs": [
    {
     "data": {
      "text/plain": [
       "Index(['YAHOO/INDEX_HSI'], dtype='object')"
      ]
     },
     "execution_count": 143,
     "metadata": {},
     "output_type": "execute_result"
    }
   ],
   "source": [
    "benchmark."
   ]
  },
  {
   "cell_type": "code",
   "execution_count": 135,
   "metadata": {
    "collapsed": false
   },
   "outputs": [],
   "source": [
    "stocks = pd.DataFrame()\n",
    "for s in stocks_list:\n",
    "    stocks[s] = Quandl.get(s, rows=num_of_days, authtoken=token)[\"Close\"].pct_change().tail(-1).cumsum()"
   ]
  },
  {
   "cell_type": "markdown",
   "metadata": {},
   "source": [
    "Check if the number of rows in benchmark is same as the one in stocks"
   ]
  },
  {
   "cell_type": "code",
   "execution_count": 136,
   "metadata": {
    "collapsed": false
   },
   "outputs": [
    {
     "ename": "AssertionError",
     "evalue": "",
     "output_type": "error",
     "traceback": [
      "\u001b[1;31m---------------------------------------------------------------------------\u001b[0m",
      "\u001b[1;31mAssertionError\u001b[0m                            Traceback (most recent call last)",
      "\u001b[1;32m<ipython-input-136-e3d2b70e3c8f>\u001b[0m in \u001b[0;36m<module>\u001b[1;34m()\u001b[0m\n\u001b[1;32m----> 1\u001b[1;33m \u001b[1;32massert\u001b[0m \u001b[0mall\u001b[0m\u001b[1;33m(\u001b[0m\u001b[1;33m[\u001b[0m\u001b[0ms\u001b[0m \u001b[1;33m==\u001b[0m \u001b[0mbenchmark\u001b[0m\u001b[1;33m.\u001b[0m\u001b[0mcount\u001b[0m\u001b[1;33m(\u001b[0m\u001b[1;33m)\u001b[0m\u001b[1;33m[\u001b[0m\u001b[1;36m0\u001b[0m\u001b[1;33m]\u001b[0m \u001b[1;32mfor\u001b[0m \u001b[0ms\u001b[0m \u001b[1;32min\u001b[0m \u001b[0mstocks\u001b[0m\u001b[1;33m.\u001b[0m\u001b[0mcount\u001b[0m\u001b[1;33m(\u001b[0m\u001b[1;33m)\u001b[0m\u001b[1;33m]\u001b[0m\u001b[1;33m)\u001b[0m\u001b[1;33m\u001b[0m\u001b[0m\n\u001b[0m",
      "\u001b[1;31mAssertionError\u001b[0m: "
     ]
    }
   ],
   "source": [
    "assert all([s == benchmark.count()[0] for s in stocks.count()])"
   ]
  },
  {
   "cell_type": "code",
   "execution_count": 137,
   "metadata": {
    "collapsed": false
   },
   "outputs": [
    {
     "data": {
      "text/plain": [
       "YAHOO/HK_1299    49\n",
       "YAHOO/HK_0001    49\n",
       "YAHOO/HK_0002    49\n",
       "YAHOO/HK_0003    49\n",
       "YAHOO/HK_0004    49\n",
       "YAHOO/HK_0005    49\n",
       "YAHOO/HK_0006     3\n",
       "YAHOO/HK_0011    49\n",
       "YAHOO/HK_0012    49\n",
       "YAHOO/HK_0013     0\n",
       "YAHOO/HK_0016    49\n",
       "YAHOO/HK_0017    49\n",
       "YAHOO/HK_0019    49\n",
       "YAHOO/HK_0023    49\n",
       "YAHOO/HK_0027    49\n",
       "YAHOO/HK_0066    49\n",
       "YAHOO/HK_0083    49\n",
       "YAHOO/HK_0101    49\n",
       "YAHOO/HK_0135    49\n",
       "YAHOO/HK_0144    49\n",
       "YAHOO/HK_0151    49\n",
       "YAHOO/HK_0267    49\n",
       "YAHOO/HK_0291    49\n",
       "YAHOO/HK_0293    49\n",
       "YAHOO/HK_0322    49\n",
       "YAHOO/HK_0386    49\n",
       "YAHOO/HK_0388    49\n",
       "YAHOO/HK_0494    49\n",
       "YAHOO/HK_0688    49\n",
       "YAHOO/HK_0700    49\n",
       "YAHOO/HK_0762    49\n",
       "YAHOO/HK_0823    49\n",
       "YAHOO/HK_0836    49\n",
       "YAHOO/HK_0857    49\n",
       "YAHOO/HK_0883    49\n",
       "YAHOO/HK_0939    49\n",
       "YAHOO/HK_0941    49\n",
       "YAHOO/HK_0992    49\n",
       "YAHOO/HK_1044    49\n",
       "YAHOO/HK_1088    49\n",
       "YAHOO/HK_1109    49\n",
       "YAHOO/HK_1398    49\n",
       "YAHOO/HK_1880    49\n",
       "YAHOO/HK_1928    49\n",
       "YAHOO/HK_2318    49\n",
       "YAHOO/HK_2319    49\n",
       "YAHOO/HK_2388    49\n",
       "YAHOO/HK_2628    49\n",
       "YAHOO/HK_3328    49\n",
       "YAHOO/HK_3988    49\n",
       "YAHOO/HK_0168    49\n",
       "YAHOO/HK_0358    49\n",
       "YAHOO/HK_0390    49\n",
       "dtype: int64"
      ]
     },
     "execution_count": 137,
     "metadata": {},
     "output_type": "execute_result"
    }
   ],
   "source": [
    "stocks.count()"
   ]
  },
  {
   "cell_type": "code",
   "execution_count": null,
   "metadata": {
    "collapsed": true
   },
   "outputs": [],
   "source": []
  }
 ],
 "metadata": {
  "kernelspec": {
   "display_name": "Python 3",
   "language": "python",
   "name": "python3"
  },
  "language_info": {
   "codemirror_mode": {
    "name": "ipython",
    "version": 3
   },
   "file_extension": ".py",
   "mimetype": "text/x-python",
   "name": "python",
   "nbconvert_exporter": "python",
   "pygments_lexer": "ipython3",
   "version": "3.5.0"
  }
 },
 "nbformat": 4,
 "nbformat_minor": 0
}
